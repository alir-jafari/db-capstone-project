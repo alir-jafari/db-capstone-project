{
 "cells": [
  {
   "cell_type": "code",
   "execution_count": 16,
   "id": "86f6aa51-989e-4640-8c57-3fb87f9f0038",
   "metadata": {},
   "outputs": [
    {
     "name": "stdout",
     "output_type": "stream",
     "text": [
      "Connection to littlelemondb was successful\n",
      "query is : show tables\n",
      "Tables are:\n",
      "\n",
      "('bookings',)\n",
      "('customers',)\n",
      "('employees',)\n",
      "('menuitems',)\n",
      "('menus',)\n",
      "('orderdelivery',)\n",
      "('orders',)\n",
      "('ordersview',)\n"
     ]
    }
   ],
   "source": [
    "import mysql.connector as connector\n",
    "from mysql.connector import Error\n",
    "\n",
    "\n",
    "try:\n",
    "    connection = connector.connect(\n",
    "        host=\"localhost\",\n",
    "        user=\"root\",\n",
    "        passwd=\"\" ,\n",
    "        db = \"littlelemondb\" \n",
    "    )\n",
    "    print(\"Connection to littlelemondb was successful\")\n",
    "except Error as e:\n",
    "    print(f\"The error '{e}' occurred\")\n",
    "\n",
    "\n",
    "#task2\n",
    "cursor = connection.cursor()\n",
    "show_tables_query = \"SHOW tables\" \n",
    "cursor.execute(show_tables_query)\n",
    "print(\"query is : show tables\")\n",
    "results = cursor.fetchall()\n",
    "cols = cursor.column_names\n",
    "print(\"\"\"Tables are:\\n\"\"\")\n",
    "for result in results:\n",
    "    print(result)"
   ]
  },
  {
   "cell_type": "code",
   "execution_count": 17,
   "id": "f63b3d38-a701-4534-90bd-a815379e9f87",
   "metadata": {},
   "outputs": [
    {
     "name": "stdout",
     "output_type": "stream",
     "text": [
      "('full_name', 'PhoneNumber', 'BillAmount')\n",
      "('farhad aslani', '045679032', 86)\n"
     ]
    }
   ],
   "source": [
    "#task3\n",
    "cursor = connection.cursor()\n",
    "sql_query = \"\"\"\n",
    "select concat(FirstName,' ',LastName) as full_name , c.PhoneNumber , o.BillAmount \n",
    "from customers as c\n",
    "left join bookings as b on c.CustomerID=b.CustomerID \n",
    "left join orders as o on o.BookingID = b.BookingID \n",
    "where o.BillAmount > 60 \n",
    "\"\"\"\n",
    "cursor.execute(sql_query)\n",
    "results = cursor.fetchall()\n",
    "cols = cursor.column_names\n",
    "print(cols)\n",
    "for result in results:\n",
    "    print(result)"
   ]
  },
  {
   "cell_type": "code",
   "execution_count": null,
   "id": "21e99605-9650-426c-8218-0d8558df3730",
   "metadata": {},
   "outputs": [],
   "source": []
  }
 ],
 "metadata": {
  "kernelspec": {
   "display_name": "Python 3 (ipykernel)",
   "language": "python",
   "name": "python3"
  },
  "language_info": {
   "codemirror_mode": {
    "name": "ipython",
    "version": 3
   },
   "file_extension": ".py",
   "mimetype": "text/x-python",
   "name": "python",
   "nbconvert_exporter": "python",
   "pygments_lexer": "ipython3",
   "version": "3.11.4"
  }
 },
 "nbformat": 4,
 "nbformat_minor": 5
}
